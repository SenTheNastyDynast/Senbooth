{
 "cells": [
  {
   "cell_type": "markdown",
   "id": "7b971cc0",
   "metadata": {
    "id": "7b971cc0",
    "tags": [],
    "pycharm": {
     "name": "#%% md\n"
    }
   },
   "source": [
    "## Build Environment"
   ]
  },
  {
   "cell_type": "code",
   "execution_count": null,
   "id": "2AsGA1xpNQnb",
   "metadata": {
    "id": "2AsGA1xpNQnb",
    "pycharm": {
     "name": "#%%\n"
    }
   },
   "outputs": [],
   "source": [
    "# If running on Vast.AI, copy the code in this cell into a new notebook. Run it, then launch the `dreambooth_runpod_joepenna.ipynb` notebook from the jupyter interface.\n",
    "#!git clone https://github.com/JoePenna/Dreambooth-Stable-Diffusion"
   ]
  },
  {
   "cell_type": "code",
   "execution_count": 1,
   "id": "9e1bc458-091b-42f4-a125-c3f0df20f29d",
   "metadata": {
    "id": "9e1bc458-091b-42f4-a125-c3f0df20f29d",
    "scrolled": true,
    "pycharm": {
     "name": "#%%\n"
    }
   },
   "outputs": [
    {
     "name": "stdout",
     "output_type": "stream",
     "text": [
      "Requirement already satisfied: omegaconf in /venv/lib/python3.10/site-packages (2.3.0)\n",
      "Requirement already satisfied: antlr4-python3-runtime==4.9.* in /venv/lib/python3.10/site-packages (from omegaconf) (4.9.3)\n",
      "Requirement already satisfied: PyYAML>=5.1.0 in /venv/lib/python3.10/site-packages (from omegaconf) (6.0)\n",
      "\u001B[33mWARNING: Running pip as the 'root' user can result in broken permissions and conflicting behaviour with the system package manager. It is recommended to use a virtual environment instead: https://pip.pypa.io/warnings/venv\u001B[0m\u001B[33m\n",
      "\u001B[0mRequirement already satisfied: einops in /venv/lib/python3.10/site-packages (0.6.0)\n",
      "\u001B[33mWARNING: Running pip as the 'root' user can result in broken permissions and conflicting behaviour with the system package manager. It is recommended to use a virtual environment instead: https://pip.pypa.io/warnings/venv\u001B[0m\u001B[33m\n",
      "\u001B[0mRequirement already satisfied: pytorch-lightning==1.6.5 in /venv/lib/python3.10/site-packages (1.6.5)\n",
      "Requirement already satisfied: tqdm>=4.57.0 in /venv/lib/python3.10/site-packages (from pytorch-lightning==1.6.5) (4.64.1)\n",
      "Requirement already satisfied: packaging>=17.0 in /venv/lib/python3.10/site-packages (from pytorch-lightning==1.6.5) (22.0)\n",
      "Requirement already satisfied: tensorboard>=2.2.0 in /venv/lib/python3.10/site-packages (from pytorch-lightning==1.6.5) (2.11.0)\n",
      "Requirement already satisfied: torch>=1.8.* in /venv/lib/python3.10/site-packages (from pytorch-lightning==1.6.5) (1.13.0)\n",
      "Requirement already satisfied: typing-extensions>=4.0.0 in /venv/lib/python3.10/site-packages (from pytorch-lightning==1.6.5) (4.4.0)\n",
      "Requirement already satisfied: torchmetrics>=0.4.1 in /venv/lib/python3.10/site-packages (from pytorch-lightning==1.6.5) (0.6.0)\n",
      "Requirement already satisfied: fsspec[http]!=2021.06.0,>=2021.05.0 in /venv/lib/python3.10/site-packages (from pytorch-lightning==1.6.5) (2022.11.0)\n",
      "Requirement already satisfied: PyYAML>=5.4 in /venv/lib/python3.10/site-packages (from pytorch-lightning==1.6.5) (6.0)\n",
      "Requirement already satisfied: pyDeprecate>=0.3.1 in /venv/lib/python3.10/site-packages (from pytorch-lightning==1.6.5) (0.3.2)\n",
      "Requirement already satisfied: protobuf<=3.20.1 in /venv/lib/python3.10/site-packages (from pytorch-lightning==1.6.5) (3.20.1)\n",
      "Requirement already satisfied: numpy>=1.17.2 in /venv/lib/python3.10/site-packages (from pytorch-lightning==1.6.5) (1.23.5)\n",
      "Requirement already satisfied: requests in /venv/lib/python3.10/site-packages (from fsspec[http]!=2021.06.0,>=2021.05.0->pytorch-lightning==1.6.5) (2.28.1)\n",
      "Requirement already satisfied: aiohttp!=4.0.0a0,!=4.0.0a1 in /venv/lib/python3.10/site-packages (from fsspec[http]!=2021.06.0,>=2021.05.0->pytorch-lightning==1.6.5) (3.8.3)\n",
      "Requirement already satisfied: werkzeug>=1.0.1 in /venv/lib/python3.10/site-packages (from tensorboard>=2.2.0->pytorch-lightning==1.6.5) (2.2.2)\n",
      "Requirement already satisfied: google-auth-oauthlib<0.5,>=0.4.1 in /venv/lib/python3.10/site-packages (from tensorboard>=2.2.0->pytorch-lightning==1.6.5) (0.4.6)\n",
      "Requirement already satisfied: wheel>=0.26 in /venv/lib/python3.10/site-packages (from tensorboard>=2.2.0->pytorch-lightning==1.6.5) (0.37.1)\n",
      "Requirement already satisfied: absl-py>=0.4 in /venv/lib/python3.10/site-packages (from tensorboard>=2.2.0->pytorch-lightning==1.6.5) (1.3.0)\n",
      "Requirement already satisfied: markdown>=2.6.8 in /venv/lib/python3.10/site-packages (from tensorboard>=2.2.0->pytorch-lightning==1.6.5) (3.4.1)\n",
      "Requirement already satisfied: setuptools>=41.0.0 in /venv/lib/python3.10/site-packages (from tensorboard>=2.2.0->pytorch-lightning==1.6.5) (59.5.0)\n",
      "Requirement already satisfied: grpcio>=1.24.3 in /venv/lib/python3.10/site-packages (from tensorboard>=2.2.0->pytorch-lightning==1.6.5) (1.51.1)\n",
      "Requirement already satisfied: tensorboard-data-server<0.7.0,>=0.6.0 in /venv/lib/python3.10/site-packages (from tensorboard>=2.2.0->pytorch-lightning==1.6.5) (0.6.1)\n",
      "Requirement already satisfied: google-auth<3,>=1.6.3 in /venv/lib/python3.10/site-packages (from tensorboard>=2.2.0->pytorch-lightning==1.6.5) (2.15.0)\n",
      "Requirement already satisfied: tensorboard-plugin-wit>=1.6.0 in /venv/lib/python3.10/site-packages (from tensorboard>=2.2.0->pytorch-lightning==1.6.5) (1.8.1)\n",
      "Requirement already satisfied: nvidia-cuda-nvrtc-cu11==11.7.99 in /venv/lib/python3.10/site-packages (from torch>=1.8.*->pytorch-lightning==1.6.5) (11.7.99)\n",
      "Requirement already satisfied: nvidia-cublas-cu11==11.10.3.66 in /venv/lib/python3.10/site-packages (from torch>=1.8.*->pytorch-lightning==1.6.5) (11.10.3.66)\n",
      "Requirement already satisfied: nvidia-cuda-runtime-cu11==11.7.99 in /venv/lib/python3.10/site-packages (from torch>=1.8.*->pytorch-lightning==1.6.5) (11.7.99)\n",
      "Requirement already satisfied: nvidia-cudnn-cu11==8.5.0.96 in /venv/lib/python3.10/site-packages (from torch>=1.8.*->pytorch-lightning==1.6.5) (8.5.0.96)\n",
      "Requirement already satisfied: frozenlist>=1.1.1 in /venv/lib/python3.10/site-packages (from aiohttp!=4.0.0a0,!=4.0.0a1->fsspec[http]!=2021.06.0,>=2021.05.0->pytorch-lightning==1.6.5) (1.3.3)\n",
      "Requirement already satisfied: async-timeout<5.0,>=4.0.0a3 in /venv/lib/python3.10/site-packages (from aiohttp!=4.0.0a0,!=4.0.0a1->fsspec[http]!=2021.06.0,>=2021.05.0->pytorch-lightning==1.6.5) (4.0.2)\n",
      "Requirement already satisfied: aiosignal>=1.1.2 in /venv/lib/python3.10/site-packages (from aiohttp!=4.0.0a0,!=4.0.0a1->fsspec[http]!=2021.06.0,>=2021.05.0->pytorch-lightning==1.6.5) (1.3.1)\n",
      "Requirement already satisfied: multidict<7.0,>=4.5 in /venv/lib/python3.10/site-packages (from aiohttp!=4.0.0a0,!=4.0.0a1->fsspec[http]!=2021.06.0,>=2021.05.0->pytorch-lightning==1.6.5) (6.0.3)\n",
      "Requirement already satisfied: charset-normalizer<3.0,>=2.0 in /venv/lib/python3.10/site-packages (from aiohttp!=4.0.0a0,!=4.0.0a1->fsspec[http]!=2021.06.0,>=2021.05.0->pytorch-lightning==1.6.5) (2.0.4)\n",
      "Requirement already satisfied: attrs>=17.3.0 in /venv/lib/python3.10/site-packages (from aiohttp!=4.0.0a0,!=4.0.0a1->fsspec[http]!=2021.06.0,>=2021.05.0->pytorch-lightning==1.6.5) (22.1.0)\n",
      "Requirement already satisfied: yarl<2.0,>=1.0 in /venv/lib/python3.10/site-packages (from aiohttp!=4.0.0a0,!=4.0.0a1->fsspec[http]!=2021.06.0,>=2021.05.0->pytorch-lightning==1.6.5) (1.8.2)\n",
      "Requirement already satisfied: rsa<5,>=3.1.4 in /venv/lib/python3.10/site-packages (from google-auth<3,>=1.6.3->tensorboard>=2.2.0->pytorch-lightning==1.6.5) (4.9)\n",
      "Requirement already satisfied: cachetools<6.0,>=2.0.0 in /venv/lib/python3.10/site-packages (from google-auth<3,>=1.6.3->tensorboard>=2.2.0->pytorch-lightning==1.6.5) (5.2.0)\n",
      "Requirement already satisfied: pyasn1-modules>=0.2.1 in /venv/lib/python3.10/site-packages (from google-auth<3,>=1.6.3->tensorboard>=2.2.0->pytorch-lightning==1.6.5) (0.2.8)\n",
      "Requirement already satisfied: six>=1.9.0 in /venv/lib/python3.10/site-packages (from google-auth<3,>=1.6.3->tensorboard>=2.2.0->pytorch-lightning==1.6.5) (1.16.0)\n",
      "Requirement already satisfied: requests-oauthlib>=0.7.0 in /venv/lib/python3.10/site-packages (from google-auth-oauthlib<0.5,>=0.4.1->tensorboard>=2.2.0->pytorch-lightning==1.6.5) (1.3.1)\n",
      "Requirement already satisfied: urllib3<1.27,>=1.21.1 in /venv/lib/python3.10/site-packages (from requests->fsspec[http]!=2021.06.0,>=2021.05.0->pytorch-lightning==1.6.5) (1.26.13)\n",
      "Requirement already satisfied: certifi>=2017.4.17 in /venv/lib/python3.10/site-packages (from requests->fsspec[http]!=2021.06.0,>=2021.05.0->pytorch-lightning==1.6.5) (2022.12.7)\n",
      "Requirement already satisfied: idna<4,>=2.5 in /venv/lib/python3.10/site-packages (from requests->fsspec[http]!=2021.06.0,>=2021.05.0->pytorch-lightning==1.6.5) (3.4)\n",
      "Requirement already satisfied: MarkupSafe>=2.1.1 in /venv/lib/python3.10/site-packages (from werkzeug>=1.0.1->tensorboard>=2.2.0->pytorch-lightning==1.6.5) (2.1.1)\n",
      "Requirement already satisfied: pyasn1<0.5.0,>=0.4.6 in /venv/lib/python3.10/site-packages (from pyasn1-modules>=0.2.1->google-auth<3,>=1.6.3->tensorboard>=2.2.0->pytorch-lightning==1.6.5) (0.4.8)\n",
      "Requirement already satisfied: oauthlib>=3.0.0 in /venv/lib/python3.10/site-packages (from requests-oauthlib>=0.7.0->google-auth-oauthlib<0.5,>=0.4.1->tensorboard>=2.2.0->pytorch-lightning==1.6.5) (3.2.2)\n",
      "\u001B[33mWARNING: Running pip as the 'root' user can result in broken permissions and conflicting behaviour with the system package manager. It is recommended to use a virtual environment instead: https://pip.pypa.io/warnings/venv\u001B[0m\u001B[33m\n",
      "\u001B[0mRequirement already satisfied: test-tube in /venv/lib/python3.10/site-packages (0.7.5)\n",
      "Requirement already satisfied: imageio>=2.3.0 in /venv/lib/python3.10/site-packages (from test-tube) (2.22.4)\n",
      "Requirement already satisfied: future in /venv/lib/python3.10/site-packages (from test-tube) (0.18.2)\n",
      "Requirement already satisfied: torch>=1.1.0 in /venv/lib/python3.10/site-packages (from test-tube) (1.13.0)\n",
      "Requirement already satisfied: pandas>=0.20.3 in /venv/lib/python3.10/site-packages (from test-tube) (1.5.2)\n",
      "Requirement already satisfied: numpy>=1.13.3 in /venv/lib/python3.10/site-packages (from test-tube) (1.23.5)\n",
      "Requirement already satisfied: tensorboard>=1.15.0 in /venv/lib/python3.10/site-packages (from test-tube) (2.11.0)\n",
      "Requirement already satisfied: pillow>=8.3.2 in /venv/lib/python3.10/site-packages (from imageio>=2.3.0->test-tube) (9.2.0)\n",
      "Requirement already satisfied: python-dateutil>=2.8.1 in /venv/lib/python3.10/site-packages (from pandas>=0.20.3->test-tube) (2.8.2)\n",
      "Requirement already satisfied: pytz>=2020.1 in /venv/lib/python3.10/site-packages (from pandas>=0.20.3->test-tube) (2022.7)\n",
      "Requirement already satisfied: protobuf<4,>=3.9.2 in /venv/lib/python3.10/site-packages (from tensorboard>=1.15.0->test-tube) (3.20.1)\n",
      "Requirement already satisfied: wheel>=0.26 in /venv/lib/python3.10/site-packages (from tensorboard>=1.15.0->test-tube) (0.37.1)\n",
      "Requirement already satisfied: google-auth<3,>=1.6.3 in /venv/lib/python3.10/site-packages (from tensorboard>=1.15.0->test-tube) (2.15.0)\n",
      "Requirement already satisfied: google-auth-oauthlib<0.5,>=0.4.1 in /venv/lib/python3.10/site-packages (from tensorboard>=1.15.0->test-tube) (0.4.6)\n",
      "Requirement already satisfied: grpcio>=1.24.3 in /venv/lib/python3.10/site-packages (from tensorboard>=1.15.0->test-tube) (1.51.1)\n",
      "Requirement already satisfied: requests<3,>=2.21.0 in /venv/lib/python3.10/site-packages (from tensorboard>=1.15.0->test-tube) (2.28.1)\n",
      "Requirement already satisfied: tensorboard-plugin-wit>=1.6.0 in /venv/lib/python3.10/site-packages (from tensorboard>=1.15.0->test-tube) (1.8.1)\n",
      "Requirement already satisfied: werkzeug>=1.0.1 in /venv/lib/python3.10/site-packages (from tensorboard>=1.15.0->test-tube) (2.2.2)\n",
      "Requirement already satisfied: markdown>=2.6.8 in /venv/lib/python3.10/site-packages (from tensorboard>=1.15.0->test-tube) (3.4.1)\n",
      "Requirement already satisfied: tensorboard-data-server<0.7.0,>=0.6.0 in /venv/lib/python3.10/site-packages (from tensorboard>=1.15.0->test-tube) (0.6.1)\n",
      "Requirement already satisfied: absl-py>=0.4 in /venv/lib/python3.10/site-packages (from tensorboard>=1.15.0->test-tube) (1.3.0)\n",
      "Requirement already satisfied: setuptools>=41.0.0 in /venv/lib/python3.10/site-packages (from tensorboard>=1.15.0->test-tube) (59.5.0)\n",
      "Requirement already satisfied: nvidia-cudnn-cu11==8.5.0.96 in /venv/lib/python3.10/site-packages (from torch>=1.1.0->test-tube) (8.5.0.96)\n",
      "Requirement already satisfied: nvidia-cuda-nvrtc-cu11==11.7.99 in /venv/lib/python3.10/site-packages (from torch>=1.1.0->test-tube) (11.7.99)\n",
      "Requirement already satisfied: typing-extensions in /venv/lib/python3.10/site-packages (from torch>=1.1.0->test-tube) (4.4.0)\n",
      "Requirement already satisfied: nvidia-cublas-cu11==11.10.3.66 in /venv/lib/python3.10/site-packages (from torch>=1.1.0->test-tube) (11.10.3.66)\n",
      "Requirement already satisfied: nvidia-cuda-runtime-cu11==11.7.99 in /venv/lib/python3.10/site-packages (from torch>=1.1.0->test-tube) (11.7.99)\n",
      "Requirement already satisfied: rsa<5,>=3.1.4 in /venv/lib/python3.10/site-packages (from google-auth<3,>=1.6.3->tensorboard>=1.15.0->test-tube) (4.9)\n",
      "Requirement already satisfied: cachetools<6.0,>=2.0.0 in /venv/lib/python3.10/site-packages (from google-auth<3,>=1.6.3->tensorboard>=1.15.0->test-tube) (5.2.0)\n",
      "Requirement already satisfied: pyasn1-modules>=0.2.1 in /venv/lib/python3.10/site-packages (from google-auth<3,>=1.6.3->tensorboard>=1.15.0->test-tube) (0.2.8)\n",
      "Requirement already satisfied: six>=1.9.0 in /venv/lib/python3.10/site-packages (from google-auth<3,>=1.6.3->tensorboard>=1.15.0->test-tube) (1.16.0)\n",
      "Requirement already satisfied: requests-oauthlib>=0.7.0 in /venv/lib/python3.10/site-packages (from google-auth-oauthlib<0.5,>=0.4.1->tensorboard>=1.15.0->test-tube) (1.3.1)\n",
      "Requirement already satisfied: charset-normalizer<3,>=2 in /venv/lib/python3.10/site-packages (from requests<3,>=2.21.0->tensorboard>=1.15.0->test-tube) (2.0.4)\n",
      "Requirement already satisfied: certifi>=2017.4.17 in /venv/lib/python3.10/site-packages (from requests<3,>=2.21.0->tensorboard>=1.15.0->test-tube) (2022.12.7)\n",
      "Requirement already satisfied: idna<4,>=2.5 in /venv/lib/python3.10/site-packages (from requests<3,>=2.21.0->tensorboard>=1.15.0->test-tube) (3.4)\n",
      "Requirement already satisfied: urllib3<1.27,>=1.21.1 in /venv/lib/python3.10/site-packages (from requests<3,>=2.21.0->tensorboard>=1.15.0->test-tube) (1.26.13)\n",
      "Requirement already satisfied: MarkupSafe>=2.1.1 in /venv/lib/python3.10/site-packages (from werkzeug>=1.0.1->tensorboard>=1.15.0->test-tube) (2.1.1)\n",
      "Requirement already satisfied: pyasn1<0.5.0,>=0.4.6 in /venv/lib/python3.10/site-packages (from pyasn1-modules>=0.2.1->google-auth<3,>=1.6.3->tensorboard>=1.15.0->test-tube) (0.4.8)\n",
      "Requirement already satisfied: oauthlib>=3.0.0 in /venv/lib/python3.10/site-packages (from requests-oauthlib>=0.7.0->google-auth-oauthlib<0.5,>=0.4.1->tensorboard>=1.15.0->test-tube) (3.2.2)\n",
      "\u001B[33mWARNING: Running pip as the 'root' user can result in broken permissions and conflicting behaviour with the system package manager. It is recommended to use a virtual environment instead: https://pip.pypa.io/warnings/venv\u001B[0m\u001B[33m\n",
      "\u001B[0mRequirement already satisfied: transformers in /venv/lib/python3.10/site-packages (4.25.1)\n",
      "Requirement already satisfied: packaging>=20.0 in /venv/lib/python3.10/site-packages (from transformers) (22.0)\n",
      "Requirement already satisfied: tqdm>=4.27 in /venv/lib/python3.10/site-packages (from transformers) (4.64.1)\n",
      "Requirement already satisfied: requests in /venv/lib/python3.10/site-packages (from transformers) (2.28.1)\n",
      "Requirement already satisfied: pyyaml>=5.1 in /venv/lib/python3.10/site-packages (from transformers) (6.0)\n",
      "Requirement already satisfied: filelock in /venv/lib/python3.10/site-packages (from transformers) (3.8.2)\n",
      "Requirement already satisfied: regex!=2019.12.17 in /venv/lib/python3.10/site-packages (from transformers) (2022.10.31)\n",
      "Requirement already satisfied: huggingface-hub<1.0,>=0.10.0 in /venv/lib/python3.10/site-packages (from transformers) (0.11.1)\n",
      "Requirement already satisfied: numpy>=1.17 in /venv/lib/python3.10/site-packages (from transformers) (1.23.5)\n",
      "Requirement already satisfied: tokenizers!=0.11.3,<0.14,>=0.11.1 in /venv/lib/python3.10/site-packages (from transformers) (0.13.2)\n",
      "Requirement already satisfied: typing-extensions>=3.7.4.3 in /venv/lib/python3.10/site-packages (from huggingface-hub<1.0,>=0.10.0->transformers) (4.4.0)\n",
      "Requirement already satisfied: urllib3<1.27,>=1.21.1 in /venv/lib/python3.10/site-packages (from requests->transformers) (1.26.13)\n",
      "Requirement already satisfied: certifi>=2017.4.17 in /venv/lib/python3.10/site-packages (from requests->transformers) (2022.12.7)\n",
      "Requirement already satisfied: charset-normalizer<3,>=2 in /venv/lib/python3.10/site-packages (from requests->transformers) (2.0.4)\n",
      "Requirement already satisfied: idna<4,>=2.5 in /venv/lib/python3.10/site-packages (from requests->transformers) (3.4)\n",
      "\u001B[33mWARNING: Running pip as the 'root' user can result in broken permissions and conflicting behaviour with the system package manager. It is recommended to use a virtual environment instead: https://pip.pypa.io/warnings/venv\u001B[0m\u001B[33m\n",
      "\u001B[0mRequirement already satisfied: kornia in /venv/lib/python3.10/site-packages (0.6.8)\n",
      "Requirement already satisfied: torch>=1.8.1 in /venv/lib/python3.10/site-packages (from kornia) (1.13.0)\n",
      "Requirement already satisfied: packaging in /venv/lib/python3.10/site-packages (from kornia) (22.0)\n",
      "Requirement already satisfied: nvidia-cuda-runtime-cu11==11.7.99 in /venv/lib/python3.10/site-packages (from torch>=1.8.1->kornia) (11.7.99)\n",
      "Requirement already satisfied: nvidia-cublas-cu11==11.10.3.66 in /venv/lib/python3.10/site-packages (from torch>=1.8.1->kornia) (11.10.3.66)\n",
      "Requirement already satisfied: typing-extensions in /venv/lib/python3.10/site-packages (from torch>=1.8.1->kornia) (4.4.0)\n",
      "Requirement already satisfied: nvidia-cudnn-cu11==8.5.0.96 in /venv/lib/python3.10/site-packages (from torch>=1.8.1->kornia) (8.5.0.96)\n",
      "Requirement already satisfied: nvidia-cuda-nvrtc-cu11==11.7.99 in /venv/lib/python3.10/site-packages (from torch>=1.8.1->kornia) (11.7.99)\n",
      "Requirement already satisfied: setuptools in /venv/lib/python3.10/site-packages (from nvidia-cublas-cu11==11.10.3.66->torch>=1.8.1->kornia) (59.5.0)\n",
      "Requirement already satisfied: wheel in /venv/lib/python3.10/site-packages (from nvidia-cublas-cu11==11.10.3.66->torch>=1.8.1->kornia) (0.37.1)\n",
      "\u001B[33mWARNING: Running pip as the 'root' user can result in broken permissions and conflicting behaviour with the system package manager. It is recommended to use a virtual environment instead: https://pip.pypa.io/warnings/venv\u001B[0m\u001B[33m\n",
      "\u001B[0mObtaining taming-transformers from git+https://github.com/CompVis/taming-transformers.git@master#egg=taming-transformers\n",
      "  Updating ./src/taming-transformers clone (to revision master)\n",
      "  Running command git fetch -q --tags\n",
      "  Running command git reset --hard -q 3ba01b241669f5ade541ce990f7650a3b8f65318\n",
      "  Preparing metadata (setup.py) ... \u001B[?25ldone\n",
      "\u001B[?25hRequirement already satisfied: torch in /venv/lib/python3.10/site-packages (from taming-transformers) (1.13.0)\n",
      "Requirement already satisfied: numpy in /venv/lib/python3.10/site-packages (from taming-transformers) (1.23.5)\n",
      "Requirement already satisfied: tqdm in /venv/lib/python3.10/site-packages (from taming-transformers) (4.64.1)\n",
      "Requirement already satisfied: nvidia-cublas-cu11==11.10.3.66 in /venv/lib/python3.10/site-packages (from torch->taming-transformers) (11.10.3.66)\n",
      "Requirement already satisfied: typing-extensions in /venv/lib/python3.10/site-packages (from torch->taming-transformers) (4.4.0)\n",
      "Requirement already satisfied: nvidia-cuda-nvrtc-cu11==11.7.99 in /venv/lib/python3.10/site-packages (from torch->taming-transformers) (11.7.99)\n",
      "Requirement already satisfied: nvidia-cudnn-cu11==8.5.0.96 in /venv/lib/python3.10/site-packages (from torch->taming-transformers) (8.5.0.96)\n",
      "Requirement already satisfied: nvidia-cuda-runtime-cu11==11.7.99 in /venv/lib/python3.10/site-packages (from torch->taming-transformers) (11.7.99)\n",
      "Requirement already satisfied: wheel in /venv/lib/python3.10/site-packages (from nvidia-cublas-cu11==11.10.3.66->torch->taming-transformers) (0.37.1)\n",
      "Requirement already satisfied: setuptools in /venv/lib/python3.10/site-packages (from nvidia-cublas-cu11==11.10.3.66->torch->taming-transformers) (59.5.0)\n",
      "Installing collected packages: taming-transformers\n",
      "  Attempting uninstall: taming-transformers\n",
      "    Found existing installation: taming-transformers 0.0.1\n",
      "    Uninstalling taming-transformers-0.0.1:\n",
      "      Successfully uninstalled taming-transformers-0.0.1\n",
      "  Running setup.py develop for taming-transformers\n",
      "Successfully installed taming-transformers-0.0.1\n",
      "\u001B[33mWARNING: Running pip as the 'root' user can result in broken permissions and conflicting behaviour with the system package manager. It is recommended to use a virtual environment instead: https://pip.pypa.io/warnings/venv\u001B[0m\u001B[33m\n",
      "\u001B[0mObtaining clip from git+https://github.com/openai/CLIP.git@main#egg=clip\n",
      "  Updating ./src/clip clone (to revision main)\n",
      "  Running command git fetch -q --tags\n",
      "  Running command git reset --hard -q d50d76daa670286dd6cacf3bcd80b5e4823fc8e1\n",
      "  Preparing metadata (setup.py) ... \u001B[?25ldone\n",
      "\u001B[?25hRequirement already satisfied: ftfy in /venv/lib/python3.10/site-packages (from clip) (6.1.1)\n",
      "Requirement already satisfied: regex in /venv/lib/python3.10/site-packages (from clip) (2022.10.31)\n",
      "Requirement already satisfied: tqdm in /venv/lib/python3.10/site-packages (from clip) (4.64.1)\n",
      "Requirement already satisfied: torch in /venv/lib/python3.10/site-packages (from clip) (1.13.0)\n",
      "Requirement already satisfied: torchvision in /venv/lib/python3.10/site-packages (from clip) (0.13.1)\n",
      "Requirement already satisfied: wcwidth>=0.2.5 in /venv/lib/python3.10/site-packages (from ftfy->clip) (0.2.5)\n",
      "Requirement already satisfied: nvidia-cudnn-cu11==8.5.0.96 in /venv/lib/python3.10/site-packages (from torch->clip) (8.5.0.96)\n",
      "Requirement already satisfied: nvidia-cublas-cu11==11.10.3.66 in /venv/lib/python3.10/site-packages (from torch->clip) (11.10.3.66)\n",
      "Requirement already satisfied: nvidia-cuda-runtime-cu11==11.7.99 in /venv/lib/python3.10/site-packages (from torch->clip) (11.7.99)\n",
      "Requirement already satisfied: nvidia-cuda-nvrtc-cu11==11.7.99 in /venv/lib/python3.10/site-packages (from torch->clip) (11.7.99)\n",
      "Requirement already satisfied: typing-extensions in /venv/lib/python3.10/site-packages (from torch->clip) (4.4.0)\n",
      "Requirement already satisfied: wheel in /venv/lib/python3.10/site-packages (from nvidia-cublas-cu11==11.10.3.66->torch->clip) (0.37.1)\n",
      "Requirement already satisfied: setuptools in /venv/lib/python3.10/site-packages (from nvidia-cublas-cu11==11.10.3.66->torch->clip) (59.5.0)\n",
      "Requirement already satisfied: numpy in /venv/lib/python3.10/site-packages (from torchvision->clip) (1.23.5)\n",
      "Requirement already satisfied: requests in /venv/lib/python3.10/site-packages (from torchvision->clip) (2.28.1)\n",
      "Requirement already satisfied: pillow!=8.3.*,>=5.3.0 in /venv/lib/python3.10/site-packages (from torchvision->clip) (9.2.0)\n",
      "Requirement already satisfied: charset-normalizer<3,>=2 in /venv/lib/python3.10/site-packages (from requests->torchvision->clip) (2.0.4)\n",
      "Requirement already satisfied: idna<4,>=2.5 in /venv/lib/python3.10/site-packages (from requests->torchvision->clip) (3.4)\n",
      "Requirement already satisfied: certifi>=2017.4.17 in /venv/lib/python3.10/site-packages (from requests->torchvision->clip) (2022.12.7)\n",
      "Requirement already satisfied: urllib3<1.27,>=1.21.1 in /venv/lib/python3.10/site-packages (from requests->torchvision->clip) (1.26.13)\n",
      "Installing collected packages: clip\n",
      "  Attempting uninstall: clip\n",
      "    Found existing installation: clip 1.0\n",
      "    Uninstalling clip-1.0:\n",
      "      Successfully uninstalled clip-1.0\n",
      "  Running setup.py develop for clip\n",
      "Successfully installed clip-1.0\n",
      "\u001B[33mWARNING: Running pip as the 'root' user can result in broken permissions and conflicting behaviour with the system package manager. It is recommended to use a virtual environment instead: https://pip.pypa.io/warnings/venv\u001B[0m\u001B[33m\n",
      "\u001B[0mRequirement already satisfied: setuptools==59.5.0 in /venv/lib/python3.10/site-packages (59.5.0)\n",
      "\u001B[33mWARNING: Running pip as the 'root' user can result in broken permissions and conflicting behaviour with the system package manager. It is recommended to use a virtual environment instead: https://pip.pypa.io/warnings/venv\u001B[0m\u001B[33m\n",
      "\u001B[0mCollecting pillow==9.0.1\n",
      "  Using cached Pillow-9.0.1-cp310-cp310-manylinux_2_17_x86_64.manylinux2014_x86_64.whl (4.3 MB)\n",
      "Installing collected packages: pillow\n",
      "  Attempting uninstall: pillow\n",
      "    Found existing installation: Pillow 9.2.0\n",
      "    Uninstalling Pillow-9.2.0:\n",
      "      Successfully uninstalled Pillow-9.2.0\n",
      "\u001B[31mERROR: pip's dependency resolver does not currently take into account all the packages that are installed. This behaviour is the source of the following dependency conflicts.\n",
      "clean-fid 0.1.34 requires requests==2.25.1, but you have requests 2.28.1 which is incompatible.\u001B[0m\u001B[31m\n",
      "\u001B[0mSuccessfully installed pillow-9.0.1\n",
      "\u001B[33mWARNING: Running pip as the 'root' user can result in broken permissions and conflicting behaviour with the system package manager. It is recommended to use a virtual environment instead: https://pip.pypa.io/warnings/venv\u001B[0m\u001B[33m\n",
      "\u001B[0mRequirement already satisfied: torchmetrics==0.6.0 in /venv/lib/python3.10/site-packages (0.6.0)\n",
      "Requirement already satisfied: packaging in /venv/lib/python3.10/site-packages (from torchmetrics==0.6.0) (22.0)\n",
      "Requirement already satisfied: numpy>=1.17.2 in /venv/lib/python3.10/site-packages (from torchmetrics==0.6.0) (1.23.5)\n",
      "Requirement already satisfied: torch>=1.3.1 in /venv/lib/python3.10/site-packages (from torchmetrics==0.6.0) (1.13.0)\n",
      "Requirement already satisfied: nvidia-cublas-cu11==11.10.3.66 in /venv/lib/python3.10/site-packages (from torch>=1.3.1->torchmetrics==0.6.0) (11.10.3.66)\n",
      "Requirement already satisfied: nvidia-cuda-nvrtc-cu11==11.7.99 in /venv/lib/python3.10/site-packages (from torch>=1.3.1->torchmetrics==0.6.0) (11.7.99)\n",
      "Requirement already satisfied: nvidia-cuda-runtime-cu11==11.7.99 in /venv/lib/python3.10/site-packages (from torch>=1.3.1->torchmetrics==0.6.0) (11.7.99)\n",
      "Requirement already satisfied: typing-extensions in /venv/lib/python3.10/site-packages (from torch>=1.3.1->torchmetrics==0.6.0) (4.4.0)\n",
      "Requirement already satisfied: nvidia-cudnn-cu11==8.5.0.96 in /venv/lib/python3.10/site-packages (from torch>=1.3.1->torchmetrics==0.6.0) (8.5.0.96)\n",
      "Requirement already satisfied: wheel in /venv/lib/python3.10/site-packages (from nvidia-cublas-cu11==11.10.3.66->torch>=1.3.1->torchmetrics==0.6.0) (0.37.1)\n",
      "Requirement already satisfied: setuptools in /venv/lib/python3.10/site-packages (from nvidia-cublas-cu11==11.10.3.66->torch>=1.3.1->torchmetrics==0.6.0) (59.5.0)\n",
      "\u001B[33mWARNING: Running pip as the 'root' user can result in broken permissions and conflicting behaviour with the system package manager. It is recommended to use a virtual environment instead: https://pip.pypa.io/warnings/venv\u001B[0m\u001B[33m\n",
      "\u001B[0mObtaining file:///workspace/Dreambooth-Stable-Diffusion\n",
      "  Preparing metadata (setup.py) ... \u001B[?25ldone\n",
      "\u001B[?25hRequirement already satisfied: torch in /venv/lib/python3.10/site-packages (from latent-diffusion==0.0.1) (1.13.0)\n",
      "Requirement already satisfied: numpy in /venv/lib/python3.10/site-packages (from latent-diffusion==0.0.1) (1.23.5)\n",
      "Requirement already satisfied: tqdm in /venv/lib/python3.10/site-packages (from latent-diffusion==0.0.1) (4.64.1)\n",
      "Requirement already satisfied: nvidia-cuda-nvrtc-cu11==11.7.99 in /venv/lib/python3.10/site-packages (from torch->latent-diffusion==0.0.1) (11.7.99)\n",
      "Requirement already satisfied: nvidia-cuda-runtime-cu11==11.7.99 in /venv/lib/python3.10/site-packages (from torch->latent-diffusion==0.0.1) (11.7.99)\n",
      "Requirement already satisfied: nvidia-cudnn-cu11==8.5.0.96 in /venv/lib/python3.10/site-packages (from torch->latent-diffusion==0.0.1) (8.5.0.96)\n",
      "Requirement already satisfied: nvidia-cublas-cu11==11.10.3.66 in /venv/lib/python3.10/site-packages (from torch->latent-diffusion==0.0.1) (11.10.3.66)\n",
      "Requirement already satisfied: typing-extensions in /venv/lib/python3.10/site-packages (from torch->latent-diffusion==0.0.1) (4.4.0)\n",
      "Requirement already satisfied: setuptools in /venv/lib/python3.10/site-packages (from nvidia-cublas-cu11==11.10.3.66->torch->latent-diffusion==0.0.1) (59.5.0)\n",
      "Requirement already satisfied: wheel in /venv/lib/python3.10/site-packages (from nvidia-cublas-cu11==11.10.3.66->torch->latent-diffusion==0.0.1) (0.37.1)\n",
      "Installing collected packages: latent-diffusion\n",
      "  Attempting uninstall: latent-diffusion\n",
      "    Found existing installation: latent-diffusion 0.0.1\n",
      "    Uninstalling latent-diffusion-0.0.1:\n",
      "      Successfully uninstalled latent-diffusion-0.0.1\n",
      "  Running setup.py develop for latent-diffusion\n",
      "Successfully installed latent-diffusion-0.0.1\n",
      "\u001B[33mWARNING: Running pip as the 'root' user can result in broken permissions and conflicting behaviour with the system package manager. It is recommended to use a virtual environment instead: https://pip.pypa.io/warnings/venv\u001B[0m\u001B[33m\n",
      "\u001B[0mRequirement already satisfied: protobuf==3.20.1 in /venv/lib/python3.10/site-packages (3.20.1)\n",
      "\u001B[33mWARNING: Running pip as the 'root' user can result in broken permissions and conflicting behaviour with the system package manager. It is recommended to use a virtual environment instead: https://pip.pypa.io/warnings/venv\u001B[0m\u001B[33m\n",
      "\u001B[0mRequirement already satisfied: gdown in /venv/lib/python3.10/site-packages (4.6.0)\n",
      "Requirement already satisfied: filelock in /venv/lib/python3.10/site-packages (from gdown) (3.8.2)\n",
      "Requirement already satisfied: six in /venv/lib/python3.10/site-packages (from gdown) (1.16.0)\n",
      "Requirement already satisfied: requests[socks] in /venv/lib/python3.10/site-packages (from gdown) (2.28.1)\n",
      "Requirement already satisfied: tqdm in /venv/lib/python3.10/site-packages (from gdown) (4.64.1)\n",
      "Requirement already satisfied: beautifulsoup4 in /venv/lib/python3.10/site-packages (from gdown) (4.11.1)\n",
      "Requirement already satisfied: soupsieve>1.2 in /venv/lib/python3.10/site-packages (from beautifulsoup4->gdown) (2.3.2.post1)\n",
      "Requirement already satisfied: charset-normalizer<3,>=2 in /venv/lib/python3.10/site-packages (from requests[socks]->gdown) (2.0.4)\n",
      "Requirement already satisfied: certifi>=2017.4.17 in /venv/lib/python3.10/site-packages (from requests[socks]->gdown) (2022.12.7)\n",
      "Requirement already satisfied: idna<4,>=2.5 in /venv/lib/python3.10/site-packages (from requests[socks]->gdown) (3.4)\n",
      "Requirement already satisfied: urllib3<1.27,>=1.21.1 in /venv/lib/python3.10/site-packages (from requests[socks]->gdown) (1.26.13)\n",
      "Requirement already satisfied: PySocks!=1.5.7,>=1.5.6 in /venv/lib/python3.10/site-packages (from requests[socks]->gdown) (1.7.1)\n",
      "\u001B[33mWARNING: Running pip as the 'root' user can result in broken permissions and conflicting behaviour with the system package manager. It is recommended to use a virtual environment instead: https://pip.pypa.io/warnings/venv\u001B[0m\u001B[33m\n",
      "\u001B[0mRequirement already satisfied: huggingface_hub in /venv/lib/python3.10/site-packages (0.11.1)\n",
      "Requirement already satisfied: typing-extensions>=3.7.4.3 in /venv/lib/python3.10/site-packages (from huggingface_hub) (4.4.0)\n",
      "Requirement already satisfied: packaging>=20.9 in /venv/lib/python3.10/site-packages (from huggingface_hub) (22.0)\n",
      "Requirement already satisfied: filelock in /venv/lib/python3.10/site-packages (from huggingface_hub) (3.8.2)\n",
      "Requirement already satisfied: pyyaml>=5.1 in /venv/lib/python3.10/site-packages (from huggingface_hub) (6.0)\n",
      "Requirement already satisfied: requests in /venv/lib/python3.10/site-packages (from huggingface_hub) (2.28.1)\n",
      "Requirement already satisfied: tqdm in /venv/lib/python3.10/site-packages (from huggingface_hub) (4.64.1)\n",
      "Requirement already satisfied: urllib3<1.27,>=1.21.1 in /venv/lib/python3.10/site-packages (from requests->huggingface_hub) (1.26.13)\n",
      "Requirement already satisfied: certifi>=2017.4.17 in /venv/lib/python3.10/site-packages (from requests->huggingface_hub) (2022.12.7)\n",
      "Requirement already satisfied: charset-normalizer<3,>=2 in /venv/lib/python3.10/site-packages (from requests->huggingface_hub) (2.0.4)\n",
      "Requirement already satisfied: idna<4,>=2.5 in /venv/lib/python3.10/site-packages (from requests->huggingface_hub) (3.4)\n",
      "\u001B[33mWARNING: Running pip as the 'root' user can result in broken permissions and conflicting behaviour with the system package manager. It is recommended to use a virtual environment instead: https://pip.pypa.io/warnings/venv\u001B[0m\u001B[33m\n",
      "\u001B[0mRequirement already satisfied: ipywidgets==7.7.1 in /venv/lib/python3.10/site-packages (7.7.1)\n",
      "Requirement already satisfied: ipykernel>=4.5.1 in /venv/lib/python3.10/site-packages (from ipywidgets==7.7.1) (6.19.2)\n",
      "Requirement already satisfied: ipython-genutils~=0.2.0 in /venv/lib/python3.10/site-packages (from ipywidgets==7.7.1) (0.2.0)\n",
      "Requirement already satisfied: ipython>=4.0.0 in /venv/lib/python3.10/site-packages (from ipywidgets==7.7.1) (8.7.0)\n",
      "Requirement already satisfied: traitlets>=4.3.1 in /venv/lib/python3.10/site-packages (from ipywidgets==7.7.1) (5.7.1)\n",
      "Requirement already satisfied: jupyterlab-widgets>=1.0.0 in /venv/lib/python3.10/site-packages (from ipywidgets==7.7.1) (1.1.1)\n",
      "Requirement already satisfied: widgetsnbextension~=3.6.0 in /venv/lib/python3.10/site-packages (from ipywidgets==7.7.1) (3.6.1)\n",
      "Requirement already satisfied: matplotlib-inline>=0.1 in /venv/lib/python3.10/site-packages (from ipykernel>=4.5.1->ipywidgets==7.7.1) (0.1.6)\n",
      "Requirement already satisfied: nest-asyncio in /venv/lib/python3.10/site-packages (from ipykernel>=4.5.1->ipywidgets==7.7.1) (1.5.6)\n",
      "Requirement already satisfied: tornado>=6.1 in /venv/lib/python3.10/site-packages (from ipykernel>=4.5.1->ipywidgets==7.7.1) (6.2)\n",
      "Requirement already satisfied: comm>=0.1.1 in /venv/lib/python3.10/site-packages (from ipykernel>=4.5.1->ipywidgets==7.7.1) (0.1.2)\n",
      "Requirement already satisfied: jupyter-client>=6.1.12 in /venv/lib/python3.10/site-packages (from ipykernel>=4.5.1->ipywidgets==7.7.1) (7.4.8)\n",
      "Requirement already satisfied: packaging in /venv/lib/python3.10/site-packages (from ipykernel>=4.5.1->ipywidgets==7.7.1) (22.0)\n",
      "Requirement already satisfied: debugpy>=1.0 in /venv/lib/python3.10/site-packages (from ipykernel>=4.5.1->ipywidgets==7.7.1) (1.6.4)\n",
      "Requirement already satisfied: pyzmq>=17 in /venv/lib/python3.10/site-packages (from ipykernel>=4.5.1->ipywidgets==7.7.1) (24.0.1)\n",
      "Requirement already satisfied: psutil in /venv/lib/python3.10/site-packages (from ipykernel>=4.5.1->ipywidgets==7.7.1) (5.9.4)\n",
      "Requirement already satisfied: pexpect>4.3 in /venv/lib/python3.10/site-packages (from ipython>=4.0.0->ipywidgets==7.7.1) (4.8.0)\n",
      "Requirement already satisfied: jedi>=0.16 in /venv/lib/python3.10/site-packages (from ipython>=4.0.0->ipywidgets==7.7.1) (0.18.2)\n",
      "Requirement already satisfied: backcall in /venv/lib/python3.10/site-packages (from ipython>=4.0.0->ipywidgets==7.7.1) (0.2.0)\n",
      "Requirement already satisfied: decorator in /venv/lib/python3.10/site-packages (from ipython>=4.0.0->ipywidgets==7.7.1) (5.1.1)\n",
      "Requirement already satisfied: prompt-toolkit<3.1.0,>=3.0.11 in /venv/lib/python3.10/site-packages (from ipython>=4.0.0->ipywidgets==7.7.1) (3.0.36)\n",
      "Requirement already satisfied: pygments>=2.4.0 in /venv/lib/python3.10/site-packages (from ipython>=4.0.0->ipywidgets==7.7.1) (2.13.0)\n",
      "Requirement already satisfied: pickleshare in /venv/lib/python3.10/site-packages (from ipython>=4.0.0->ipywidgets==7.7.1) (0.7.5)\n",
      "Requirement already satisfied: stack-data in /venv/lib/python3.10/site-packages (from ipython>=4.0.0->ipywidgets==7.7.1) (0.6.2)\n",
      "Requirement already satisfied: notebook>=4.4.1 in /venv/lib/python3.10/site-packages (from widgetsnbextension~=3.6.0->ipywidgets==7.7.1) (6.5.2)\n",
      "Requirement already satisfied: parso<0.9.0,>=0.8.0 in /venv/lib/python3.10/site-packages (from jedi>=0.16->ipython>=4.0.0->ipywidgets==7.7.1) (0.8.3)\n",
      "Requirement already satisfied: entrypoints in /venv/lib/python3.10/site-packages (from jupyter-client>=6.1.12->ipykernel>=4.5.1->ipywidgets==7.7.1) (0.4)\n",
      "Requirement already satisfied: python-dateutil>=2.8.2 in /venv/lib/python3.10/site-packages (from jupyter-client>=6.1.12->ipykernel>=4.5.1->ipywidgets==7.7.1) (2.8.2)\n",
      "Requirement already satisfied: jupyter-core>=4.9.2 in /venv/lib/python3.10/site-packages (from jupyter-client>=6.1.12->ipykernel>=4.5.1->ipywidgets==7.7.1) (5.1.0)\n",
      "Requirement already satisfied: Send2Trash>=1.8.0 in /venv/lib/python3.10/site-packages (from notebook>=4.4.1->widgetsnbextension~=3.6.0->ipywidgets==7.7.1) (1.8.0)\n",
      "Requirement already satisfied: prometheus-client in /venv/lib/python3.10/site-packages (from notebook>=4.4.1->widgetsnbextension~=3.6.0->ipywidgets==7.7.1) (0.15.0)\n",
      "Requirement already satisfied: nbclassic>=0.4.7 in /venv/lib/python3.10/site-packages (from notebook>=4.4.1->widgetsnbextension~=3.6.0->ipywidgets==7.7.1) (0.4.8)\n",
      "Requirement already satisfied: terminado>=0.8.3 in /venv/lib/python3.10/site-packages (from notebook>=4.4.1->widgetsnbextension~=3.6.0->ipywidgets==7.7.1) (0.17.1)\n",
      "Requirement already satisfied: argon2-cffi in /venv/lib/python3.10/site-packages (from notebook>=4.4.1->widgetsnbextension~=3.6.0->ipywidgets==7.7.1) (21.3.0)\n",
      "Requirement already satisfied: nbconvert>=5 in /venv/lib/python3.10/site-packages (from notebook>=4.4.1->widgetsnbextension~=3.6.0->ipywidgets==7.7.1) (7.2.6)\n",
      "Requirement already satisfied: jinja2 in /venv/lib/python3.10/site-packages (from notebook>=4.4.1->widgetsnbextension~=3.6.0->ipywidgets==7.7.1) (3.1.2)\n",
      "Requirement already satisfied: nbformat in /venv/lib/python3.10/site-packages (from notebook>=4.4.1->widgetsnbextension~=3.6.0->ipywidgets==7.7.1) (5.7.0)\n",
      "Requirement already satisfied: ptyprocess>=0.5 in /venv/lib/python3.10/site-packages (from pexpect>4.3->ipython>=4.0.0->ipywidgets==7.7.1) (0.7.0)\n",
      "Requirement already satisfied: wcwidth in /venv/lib/python3.10/site-packages (from prompt-toolkit<3.1.0,>=3.0.11->ipython>=4.0.0->ipywidgets==7.7.1) (0.2.5)\n",
      "Requirement already satisfied: executing>=1.2.0 in /venv/lib/python3.10/site-packages (from stack-data->ipython>=4.0.0->ipywidgets==7.7.1) (1.2.0)\n",
      "Requirement already satisfied: pure-eval in /venv/lib/python3.10/site-packages (from stack-data->ipython>=4.0.0->ipywidgets==7.7.1) (0.2.2)\n",
      "Requirement already satisfied: asttokens>=2.1.0 in /venv/lib/python3.10/site-packages (from stack-data->ipython>=4.0.0->ipywidgets==7.7.1) (2.2.1)\n",
      "Requirement already satisfied: six in /venv/lib/python3.10/site-packages (from asttokens>=2.1.0->stack-data->ipython>=4.0.0->ipywidgets==7.7.1) (1.16.0)\n",
      "Requirement already satisfied: platformdirs>=2.5 in /venv/lib/python3.10/site-packages (from jupyter-core>=4.9.2->jupyter-client>=6.1.12->ipykernel>=4.5.1->ipywidgets==7.7.1) (2.6.0)\n",
      "Requirement already satisfied: notebook-shim>=0.1.0 in /venv/lib/python3.10/site-packages (from nbclassic>=0.4.7->notebook>=4.4.1->widgetsnbextension~=3.6.0->ipywidgets==7.7.1) (0.2.2)\n",
      "Requirement already satisfied: jupyter-server>=1.8 in /venv/lib/python3.10/site-packages (from nbclassic>=0.4.7->notebook>=4.4.1->widgetsnbextension~=3.6.0->ipywidgets==7.7.1) (1.23.3)\n",
      "Requirement already satisfied: markupsafe>=2.0 in /venv/lib/python3.10/site-packages (from nbconvert>=5->notebook>=4.4.1->widgetsnbextension~=3.6.0->ipywidgets==7.7.1) (2.1.1)\n",
      "Requirement already satisfied: jupyterlab-pygments in /venv/lib/python3.10/site-packages (from nbconvert>=5->notebook>=4.4.1->widgetsnbextension~=3.6.0->ipywidgets==7.7.1) (0.2.2)\n",
      "Requirement already satisfied: nbclient>=0.5.0 in /venv/lib/python3.10/site-packages (from nbconvert>=5->notebook>=4.4.1->widgetsnbextension~=3.6.0->ipywidgets==7.7.1) (0.7.2)\n",
      "Requirement already satisfied: beautifulsoup4 in /venv/lib/python3.10/site-packages (from nbconvert>=5->notebook>=4.4.1->widgetsnbextension~=3.6.0->ipywidgets==7.7.1) (4.11.1)\n",
      "Requirement already satisfied: mistune<3,>=2.0.3 in /venv/lib/python3.10/site-packages (from nbconvert>=5->notebook>=4.4.1->widgetsnbextension~=3.6.0->ipywidgets==7.7.1) (2.0.4)\n",
      "Requirement already satisfied: pandocfilters>=1.4.1 in /venv/lib/python3.10/site-packages (from nbconvert>=5->notebook>=4.4.1->widgetsnbextension~=3.6.0->ipywidgets==7.7.1) (1.5.0)\n",
      "Requirement already satisfied: tinycss2 in /venv/lib/python3.10/site-packages (from nbconvert>=5->notebook>=4.4.1->widgetsnbextension~=3.6.0->ipywidgets==7.7.1) (1.2.1)\n",
      "Requirement already satisfied: defusedxml in /venv/lib/python3.10/site-packages (from nbconvert>=5->notebook>=4.4.1->widgetsnbextension~=3.6.0->ipywidgets==7.7.1) (0.7.1)\n",
      "Requirement already satisfied: bleach in /venv/lib/python3.10/site-packages (from nbconvert>=5->notebook>=4.4.1->widgetsnbextension~=3.6.0->ipywidgets==7.7.1) (5.0.1)\n",
      "Requirement already satisfied: fastjsonschema in /venv/lib/python3.10/site-packages (from nbformat->notebook>=4.4.1->widgetsnbextension~=3.6.0->ipywidgets==7.7.1) (2.16.2)\n",
      "Requirement already satisfied: jsonschema>=2.6 in /venv/lib/python3.10/site-packages (from nbformat->notebook>=4.4.1->widgetsnbextension~=3.6.0->ipywidgets==7.7.1) (4.17.3)\n",
      "Requirement already satisfied: argon2-cffi-bindings in /venv/lib/python3.10/site-packages (from argon2-cffi->notebook>=4.4.1->widgetsnbextension~=3.6.0->ipywidgets==7.7.1) (21.2.0)\n",
      "Requirement already satisfied: attrs>=17.4.0 in /venv/lib/python3.10/site-packages (from jsonschema>=2.6->nbformat->notebook>=4.4.1->widgetsnbextension~=3.6.0->ipywidgets==7.7.1) (22.1.0)\n",
      "Requirement already satisfied: pyrsistent!=0.17.0,!=0.17.1,!=0.17.2,>=0.14.0 in /venv/lib/python3.10/site-packages (from jsonschema>=2.6->nbformat->notebook>=4.4.1->widgetsnbextension~=3.6.0->ipywidgets==7.7.1) (0.19.2)\n",
      "Requirement already satisfied: anyio<4,>=3.1.0 in /venv/lib/python3.10/site-packages (from jupyter-server>=1.8->nbclassic>=0.4.7->notebook>=4.4.1->widgetsnbextension~=3.6.0->ipywidgets==7.7.1) (3.6.2)\n",
      "Requirement already satisfied: websocket-client in /venv/lib/python3.10/site-packages (from jupyter-server>=1.8->nbclassic>=0.4.7->notebook>=4.4.1->widgetsnbextension~=3.6.0->ipywidgets==7.7.1) (1.4.2)\n",
      "Requirement already satisfied: cffi>=1.0.1 in /venv/lib/python3.10/site-packages (from argon2-cffi-bindings->argon2-cffi->notebook>=4.4.1->widgetsnbextension~=3.6.0->ipywidgets==7.7.1) (1.15.1)\n",
      "Requirement already satisfied: soupsieve>1.2 in /venv/lib/python3.10/site-packages (from beautifulsoup4->nbconvert>=5->notebook>=4.4.1->widgetsnbextension~=3.6.0->ipywidgets==7.7.1) (2.3.2.post1)\n",
      "Requirement already satisfied: webencodings in /venv/lib/python3.10/site-packages (from bleach->nbconvert>=5->notebook>=4.4.1->widgetsnbextension~=3.6.0->ipywidgets==7.7.1) (0.5.1)\n",
      "Requirement already satisfied: sniffio>=1.1 in /venv/lib/python3.10/site-packages (from anyio<4,>=3.1.0->jupyter-server>=1.8->nbclassic>=0.4.7->notebook>=4.4.1->widgetsnbextension~=3.6.0->ipywidgets==7.7.1) (1.3.0)\n",
      "Requirement already satisfied: idna>=2.8 in /venv/lib/python3.10/site-packages (from anyio<4,>=3.1.0->jupyter-server>=1.8->nbclassic>=0.4.7->notebook>=4.4.1->widgetsnbextension~=3.6.0->ipywidgets==7.7.1) (3.4)\n",
      "Requirement already satisfied: pycparser in /venv/lib/python3.10/site-packages (from cffi>=1.0.1->argon2-cffi-bindings->argon2-cffi->notebook>=4.4.1->widgetsnbextension~=3.6.0->ipywidgets==7.7.1) (2.21)\n",
      "\u001B[33mWARNING: Running pip as the 'root' user can result in broken permissions and conflicting behaviour with the system package manager. It is recommended to use a virtual environment instead: https://pip.pypa.io/warnings/venv\u001B[0m\u001B[33m\n",
      "\u001B[0mRequirement already satisfied: captionizer==1.0.1 in /venv/lib/python3.10/site-packages (1.0.1)\n",
      "\u001B[33mWARNING: Running pip as the 'root' user can result in broken permissions and conflicting behaviour with the system package manager. It is recommended to use a virtual environment instead: https://pip.pypa.io/warnings/venv\u001B[0m\u001B[33m\n",
      "\u001B[0m"
     ]
    }
   ],
   "source": [
    "# Download all the goodies you will need\n",
    "!pip install omegaconf\n",
    "!pip install einops\n",
    "!pip install pytorch-lightning==1.6.5\n",
    "!pip install test-tube\n",
    "!pip install transformers\n",
    "!pip install kornia\n",
    "!pip install -e git+https://github.com/CompVis/taming-transformers.git@master#egg=taming-transformers\n",
    "!pip install -e git+https://github.com/openai/CLIP.git@main#egg=clip\n",
    "!pip install setuptools==59.5.0\n",
    "!pip install pillow==9.0.1\n",
    "!pip install torchmetrics==0.6.0\n",
    "!pip install -e .\n",
    "!pip install protobuf==3.20.1\n",
    "!pip install gdown\n",
    "!pip install -qq diffusers[\"training\"]==0.3.0 transformers ftfy\n",
    "!pip install -qq \"ipywidgets>=7,<8\"\n",
    "!pip install huggingface_hub\n",
    "!pip install ipywidgets==7.7.1\n",
    "!pip install captionizer==1.0.1\n",
    "!apt-get update --assume-yes\n",
    "!apt-get upgrade --assume-yes\n",
    "!apt-get install zip --assume-yes\n",
    "!apt-get install unzip --assume-yes\n",
    "!apt-get install -y zip unzip --assume-yes\n"
   ]
  },
  {
   "cell_type": "code",
   "execution_count": 14,
   "id": "dae11c10",
   "metadata": {
    "id": "dae11c10",
    "pycharm": {
     "name": "#%%\n"
    }
   },
   "outputs": [
    {
     "data": {
      "application/vnd.jupyter.widget-view+json": {
       "model_id": "ff004a545e71407ab0939c925a201d71",
       "version_major": 2,
       "version_minor": 0
      },
      "text/plain": [
       "VBox(children=(HTML(value='<center> <img\\nsrc=https://huggingface.co/front/assets/huggingface_logo-noborder.sv…"
      ]
     },
     "metadata": {},
     "output_type": "display_data"
    }
   ],
   "source": [
    "# Hugging Face Login\n",
    "from huggingface_hub import notebook_login\n",
    "\n",
    "notebook_login()"
   ]
  },
  {
   "cell_type": "code",
   "execution_count": 1,
   "id": "d9b2ebdf-ce79-4903-b75d-2139cd60c703",
   "metadata": {
    "pycharm": {
     "name": "#%%\n"
    }
   },
   "outputs": [
    {
     "name": "stdout",
     "output_type": "stream",
     "text": [
      "Downloading: 100%|███████████████████████████| 966M/966M [00:10<00:00, 96.0MB/s]\n",
      "Downloading: 100%|█████████████████████████| 1.39G/1.39G [00:15<00:00, 88.0MB/s]\n",
      "\n",
      "\n",
      "All good G. All good. Check the regularization_images/master folder.\n"
     ]
    }
   ],
   "source": [
    "#Download Reggies, using these by default is highly recommended\n",
    "hf_hub_download(repo_id=\"senseiberia/768_regularization_images\", filename=\"768_person_eulera_80steps_cfg5.zip\", repo_type=\"dataset\") '/workspace/Dreambooth-Stable-Diffusion'\n",
    "\n",
    "#Download the 2.1 model next\n",
    "#hf_hub_download(repo_id=\"stabilityai/stable-diffusion-2-1\", filename=\"v2-1_768-ema-pruned.ckpt\") '/workspace/Dreambooth-Stable-Diffusion'\n"
   ]
  },
  {
   "cell_type": "code",
   "execution_count": 24,
   "id": "b860a8fa-79f9-4a16-94a2-dff9af156ab6",
   "metadata": {
    "pycharm": {
     "name": "#%%\n"
    }
   },
   "outputs": [],
   "source": [
    "#Unzip the Reggies into its folder\n",
    "\n",
    "!unzip /root/.cache/huggingface/hub/datasets--ProGamerGov--StableDiffusion-v1-5-Regularization-Images/snapshots/33c3dfd363f20ff50042f2d22252b1ec74ddaa21/person_v1-5_mse_vae_ddim50_cfg7_n2115.zip -j /workspace/Dreambooth-Stable-Diffusion/regularization_images"
   ]
  },
  {
   "cell_type": "code",
   "execution_count": null,
   "id": "67f9ff0c-b529-4c7c-8e26-8388d70a5d91",
   "metadata": {
    "id": "67f9ff0c-b529-4c7c-8e26-8388d70a5d91",
    "pycharm": {
     "name": "#%%\n"
    }
   },
   "outputs": [],
   "source": [
    "#Unzip your training images into its folder\n",
    "\n",
    "!unzip /workspace/Dreambooth-Stable-Diffusion/zippy.zip -j /workspace/Dreambooth-Stable-Diffusion/training_images"
   ]
  },
  {
   "cell_type": "markdown",
   "id": "ad4e50df",
   "metadata": {
    "id": "ad4e50df",
    "pycharm": {
     "name": "#%% md\n"
    }
   },
   "source": [
    "## Training\n",
    "\n",
    "Two sets of images will be generated, sample_subject and sample, use these to keep track of your training progress. They will be stored in the logs/images/train folder. Don't forget to change your training settings by editing the trainingsettings.yaml file!\n",
    "\n",
    "Also, make sure to edit the model name if you are using something other than the 768-v-ema ckpt which is the 2.1 model for 768x768 training.\n"
   ]
  },
  {
   "cell_type": "code",
   "execution_count": null,
   "id": "6fa5dd66-2ca0-4819-907e-802e25583ae6",
   "metadata": {
    "id": "6fa5dd66-2ca0-4819-907e-802e25583ae6",
    "tags": [],
    "pycharm": {
     "name": "#%%\n",
     "is_executing": true
    }
   },
   "outputs": [],
   "source": [
    "# Training\n",
    "\n",
    "# This isn't used for training, just to help you remember what your trained into the model.\n",
    "project_name = \"xmeetsultimate\"\n",
    "\n",
    "# MAX STEPS\n",
    "# How many steps do you want to train for?\n",
    "max_training_steps = 13000\n",
    "\n",
    "# Match class_word to the category of the regularization images you chose above.\n",
    "class_word = \"person\" # typical uses are \"man\", \"person\", \"woman\"\n",
    "\n",
    "# This is the unique token you are incorporating into the stable diffusion model.\n",
    "token = \"xmeetsultimate\"\n",
    "\n",
    "\n",
    "reg_data_root = \"/workspace/Dreambooth-Stable-Diffusion/regularization_images/\"\n",
    "\n",
    "!rm -rf training_images/.ipynb_checkpoints\n",
    "!python \"main.py\" \\\n",
    " --base /workspace/Dreambooth-Stable-Diffusion/trainingsettings.yaml \\\n",
    " -t \\\n",
    " --actual_resume \"v2-1_768-ema-pruned.ckpt\" \\\n",
    " --reg_data_root \"{reg_data_root}\" \\\n",
    " -n \"{project_name}\" \\\n",
    " --gpus 0, \\\n",
    " --data_root \"/workspace/Dreambooth-Stable-Diffusion/training_images\" \\\n",
    " --max_training_steps {max_training_steps} \\\n",
    " --class_word \"{class_word}\" \\\n",
    " --token \"{token}\" \\\n",
    " --no-test"
   ]
  },
  {
   "cell_type": "markdown",
   "id": "dc49d0bd",
   "metadata": {
    "pycharm": {
     "name": "#%% md\n"
    }
   },
   "source": [
    "## Copy and name the checkpoint file"
   ]
  },
  {
   "cell_type": "code",
   "execution_count": 46,
   "id": "a142016c",
   "metadata": {
    "collapsed": false,
    "jupyter": {
     "outputs_hidden": false
    },
    "pycharm": {
     "name": "#%%\n"
    }
   },
   "outputs": [
    {
     "name": "stdout",
     "output_type": "stream",
     "text": [
      "Download your trained model file from trained_models/2022-12-18T16-00-29_gabimeetsxxx1_429_training_images_43430_max_training_steps_gabimeetsxxx1_token_woman_class_word.ckpt and use in your favorite Stable Diffusion repo!\n"
     ]
    }
   ],
   "source": [
    "# After the training is done just run this, then go to the trained_models folder which will be created, go ahead and stop (NOT terminate) this runpod so you can access this without GPU to avoid extra costs and just download the ckpt file from there. Voila! You're done!\n",
    "\n",
    "directory_paths = !ls -d logs/*\n",
    "last_checkpoint_file = directory_paths[-1] + \"/checkpoints/last.ckpt\"\n",
    "training_images = !find training_images/*\n",
    "date_string = !date +\"%Y-%m-%dT%H-%M-%S\"\n",
    "file_name = date_string[-1] + \"_\" + project_name + \"_\" + str(len(training_images)) + \"_training_images_\" +  str(max_training_steps) + \"_max_training_steps_\" + token + \"_token_\" + class_word + \"_class_word.ckpt\"\n",
    "\n",
    "file_name = file_name.replace(\" \", \"_\")\n",
    "\n",
    "!mkdir -p trained_models\n",
    "!mv \"{last_checkpoint_file}\" \"trained_models/{file_name}\"\n",
    "\n",
    "print(\"Download your trained model file from trained_models/\" + file_name + \" and use in your favorite Stable Diffusion repo!\")"
   ]
  },
  {
   "cell_type": "markdown",
   "id": "9f82db6f",
   "metadata": {
    "pycharm": {
     "name": "#%% md\n"
    }
   },
   "source": [
    "# Optional - Upload to google drive\n",
    "* run the following commands in a new `terminal` in the `Dreambooth-Stable-Diffusion` directory\n",
    "* `chmod +x ./gdrive`\n",
    "* `./gdrive about`\n",
    "* `paste your token here after navigating to the link`\n",
    "* `./gdrive upload trained_models/{file_name.ckpt}`"
   ]
  },
  {
   "cell_type": "markdown",
   "id": "9a90ac5c",
   "metadata": {
    "pycharm": {
     "name": "#%% md\n"
    }
   },
   "source": [
    "# Big Important Note!\n",
    "\n",
    "The way to use your token is `<token> <class>` ie `joepenna person` and not just `joepenna`"
   ]
  },
  {
   "cell_type": "markdown",
   "id": "d28d0139",
   "metadata": {
    "pycharm": {
     "name": "#%% md\n"
    }
   },
   "source": [
    "## Generate Images With Your Trained Model!"
   ]
  },
  {
   "cell_type": "code",
   "execution_count": null,
   "id": "80ddb03b",
   "metadata": {
    "pycharm": {
     "name": "#%%\n"
    }
   },
   "outputs": [],
   "source": [
    "!python scripts/stable_txt2img.py \\\n",
    " --ddim_eta 0.0 \\\n",
    " --n_samples 1 \\\n",
    " --n_iter 4 \\\n",
    " --scale 7.0 \\\n",
    " --ddim_steps 50 \\\n",
    " --ckpt \"/workspace/Dreambooth-Stable-Diffusion/trained_models/{file_name}\" \\\n",
    " --prompt \"joepenna person as a masterpiece portrait painting by John Singer Sargent in the style of Rembrandt\""
   ]
  }
 ],
 "metadata": {
  "colab": {
   "collapsed_sections": [],
   "provenance": []
  },
  "kernelspec": {
   "display_name": "Python 3 (ipykernel)",
   "language": "python",
   "name": "python3"
  },
  "language_info": {
   "codemirror_mode": {
    "name": "ipython",
    "version": 3
   },
   "file_extension": ".py",
   "mimetype": "text/x-python",
   "name": "python",
   "nbconvert_exporter": "python",
   "pygments_lexer": "ipython3",
   "version": "3.10.8"
  },
  "vscode": {
   "interpreter": {
    "hash": "b0fa6594d8f4cbf19f97940f81e996739fb7646882a419484c72d19e05852a7e"
   }
  }
 },
 "nbformat": 4,
 "nbformat_minor": 5
}